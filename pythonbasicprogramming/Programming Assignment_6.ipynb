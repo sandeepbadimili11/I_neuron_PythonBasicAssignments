{
 "cells": [
  {
   "cell_type": "code",
   "execution_count": null,
   "id": "58cf1364",
   "metadata": {},
   "outputs": [],
   "source": [
    "1. Write a Python Program to Display Fibonacci Sequence Using Recursion?"
   ]
  },
  {
   "cell_type": "code",
   "execution_count": 5,
   "id": "de0bcbbf",
   "metadata": {},
   "outputs": [
    {
     "name": "stdout",
     "output_type": "stream",
     "text": [
      "10\n",
      "0\t1\t1\t2\t3\t5\t8\t13\t21\t34\t"
     ]
    }
   ],
   "source": [
    "n=int(input())\n",
    "def recur_fibo(n):\n",
    "    if n <= 1:\n",
    "        return n\n",
    "    else:\n",
    "        return(recur_fibo(n-1) + recur_fibo(n-2))\n",
    "\n",
    "for i in range(n):\n",
    "    print(recur_fibo(i),end=\"\\t\")"
   ]
  },
  {
   "cell_type": "code",
   "execution_count": null,
   "id": "dc3f1307",
   "metadata": {},
   "outputs": [],
   "source": [
    "2. Write a Python Program to Find Factorial of Number Using Recursion"
   ]
  },
  {
   "cell_type": "code",
   "execution_count": 1,
   "id": "96d4b98c",
   "metadata": {},
   "outputs": [
    {
     "name": "stdout",
     "output_type": "stream",
     "text": [
      "5\n",
      "120\n"
     ]
    }
   ],
   "source": [
    "n= int(input())\n",
    "def fact(n):\n",
    "    if n==1:\n",
    "        return n\n",
    "    else:\n",
    "        return(n*fact(n-1))\n",
    "print(fact(n))"
   ]
  },
  {
   "cell_type": "code",
   "execution_count": null,
   "id": "ca9ee554",
   "metadata": {},
   "outputs": [],
   "source": [
    "3. Write a Python Program to calculate your Body Mass Index?"
   ]
  },
  {
   "cell_type": "code",
   "execution_count": 2,
   "id": "6d10bc11",
   "metadata": {
    "scrolled": true
   },
   "outputs": [
    {
     "name": "stdout",
     "output_type": "stream",
     "text": [
      "Input your height in Feet: 6\n",
      "Input your weight in Kilogram: 65\n",
      "Your body mass index is:  1.8056\n"
     ]
    }
   ],
   "source": [
    "height = float(input(\"Input your height in Feet: \"))\n",
    "weight = float(input(\"Input your weight in Kilogram: \"))\n",
    "print(\"Your body mass index is: \", round(weight / (height * height), 4))"
   ]
  },
  {
   "cell_type": "code",
   "execution_count": null,
   "id": "45e3c33c",
   "metadata": {},
   "outputs": [],
   "source": [
    "4. Write a Python Program to calculate the natural logarithm of any number"
   ]
  },
  {
   "cell_type": "code",
   "execution_count": 5,
   "id": "ccf2fb8b",
   "metadata": {},
   "outputs": [
    {
     "name": "stdout",
     "output_type": "stream",
     "text": [
      "math.log(100) :  2.302585092994046\n"
     ]
    }
   ],
   "source": [
    "import math\n",
    "n=input()\n",
    "print (\"math.log(100) : \", math.log(10))"
   ]
  },
  {
   "cell_type": "code",
   "execution_count": null,
   "id": "755d5810",
   "metadata": {},
   "outputs": [],
   "source": [
    "5. Write a Python Program for cube sum of first n natural numbers?"
   ]
  },
  {
   "cell_type": "code",
   "execution_count": 8,
   "id": "9dc773c3",
   "metadata": {},
   "outputs": [
    {
     "name": "stdout",
     "output_type": "stream",
     "text": [
      "2\n",
      "The sum of cube n natural numbers are 9\n"
     ]
    }
   ],
   "source": [
    "n=int(input())\n",
    "sum=0\n",
    "for i in range(n+1):\n",
    "    sum=i**3+sum\n",
    "print(\"The sum of cube n natural numbers are\",sum)"
   ]
  },
  {
   "cell_type": "code",
   "execution_count": null,
   "id": "94e70da4",
   "metadata": {},
   "outputs": [],
   "source": []
  }
 ],
 "metadata": {
  "kernelspec": {
   "display_name": "Python 3 (ipykernel)",
   "language": "python",
   "name": "python3"
  },
  "language_info": {
   "codemirror_mode": {
    "name": "ipython",
    "version": 3
   },
   "file_extension": ".py",
   "mimetype": "text/x-python",
   "name": "python",
   "nbconvert_exporter": "python",
   "pygments_lexer": "ipython3",
   "version": "3.9.7"
  }
 },
 "nbformat": 4,
 "nbformat_minor": 5
}
